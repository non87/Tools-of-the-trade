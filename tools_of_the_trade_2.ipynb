{
 "cells": [
  {
   "cell_type": "markdown",
   "id": "changing-malpractice",
   "metadata": {},
   "source": [
    "# Tools of the Trade. Part 2\n",
    "\n",
    "\n",
    "In this second part of the workshop, we will work with external, structured data with the library **Pandas**.\n",
    "\n",
    "## Pandas\n",
    "\n",
    "Pandas is one of the most popular libraries for data analysis in python because of its ability to handle structured data with ease. It is directly inspired by `R`'s DataFrame manipulation. You will see that all of what we learned in `np` will come handy here."
   ]
  },
  {
   "cell_type": "code",
   "execution_count": 4,
   "id": "martial-switch",
   "metadata": {},
   "outputs": [
    {
     "name": "stdout",
     "output_type": "stream",
     "text": [
      "1.2.1\n"
     ]
    }
   ],
   "source": [
    "# import pandas\n",
    "import pandas as pd\n",
    "print(pd.__version__)\n",
    "# and numpu\n",
    "import numpy as np"
   ]
  },
  {
   "cell_type": "markdown",
   "id": "operational-school",
   "metadata": {},
   "source": [
    "As we did with NumPy, we use an `alias` for Pandas, `pd`. This is very common.\n",
    "\n",
    "### The `pd.Series` Class\n",
    "\n",
    "Pandas has two classes that are of particular interest for us. The `pd.Series` and the `pd.DataFrame`. Since a `pd.DataFrame` is composed of `pd.Series`, we start from `pd.Series`. What is it? A `pd.Series` is an **ordered and labeled unidimensional collection of homogenous elements**. Let's compare this to a `np.array`:\n",
    "\n",
    "1. *Collection*, both the `np.array` and the `pd.Series`  can contain more than one element (but also 1 or 0 elementes);\n",
    "2. *Ordered*, both the `np.array` and the `pd.Series` contain information about the order of the elements they contain;\n",
    "3. *Unidimensional* unlike a `np.array`, a `pd.Series` always has a unidimensional shape: it is a vector.\n",
    "3. *Homogenous*, both the `pd.Series` and the `np.array` can contain only elements of the same type (for example, `float` or `integer`), following their `dtype`. \n",
    "4. *No Fixed dimensions*, the dimension of a `pd.Series` can easily change after it is instantiated -- even if it is still more efficient to instantiate an object once.\n",
    "\n",
    "The two classes are indeed quite similar, with a major restriction for `pd.Series` (only one dimension), but also a brand new feature: labels -- more precisely, the `index`.\n",
    "\n",
    "Let's create our first two `pd.Series`."
   ]
  },
  {
   "cell_type": "code",
   "execution_count": 38,
   "id": "rocky-athletics",
   "metadata": {},
   "outputs": [
    {
     "name": "stdout",
     "output_type": "stream",
     "text": [
      "This is my first Series:\n",
      "0     1\n",
      "1     2\n",
      "2     3\n",
      "3     5\n",
      "4     7\n",
      "5    11\n",
      "dtype: int64\n",
      "\n",
      "This is my second Series:\n",
      "0    False\n",
      "1     True\n",
      "2    False\n",
      "3     True\n",
      "4     True\n",
      "5    False\n",
      "dtype: bool\n",
      "\n"
     ]
    }
   ],
   "source": [
    "# You can proceed from a list\n",
    "first_ser = [1, 2, 3, 5, 7, 11]\n",
    "first_ser = pd.Series(first_ser)\n",
    "# But also from a np.array\n",
    "# Here we create a random boolean vector\n",
    "seed = 12345\n",
    "rng = np.random.default_rng(seed)\n",
    "second_ser = rng.choice([1,0], 6)\n",
    "# dtype argument!\n",
    "second_ser = pd.Series(second_ser, dtype='bool')\n",
    "\n",
    "print(f\"This is my first Series:\\n{first_ser}\\n\")\n",
    "print(f\"This is my second Series:\\n{second_ser}\\n\")"
   ]
  },
  {
   "cell_type": "markdown",
   "id": "copyrighted-house",
   "metadata": {},
   "source": [
    "After our introduction, you will be hardly surprised to know that the `pd.Series` has many of the same feature of the `np.array`. You already notice it has a `dtype`. Well, it also has a `shape` (which will always be unidimensional). Moreover, you can use `pd.Series` all of the `np` universal functions you already encounteed.\n",
    "\n",
    "<div class=\"alert alert-block alert-success\">\n",
    "    <b>New <code>dtype</code>s</b> Pandas supports all of the NumPy-defined <code>dtype</code>s. However, it also adds some new <code>dtype</code> of its own. Like the <a href=https://pandas.pydata.org/pandas-docs/stable/user_guide/categorical.html>Categorical</a> <code>dtype</code> and the <a href=https://pandas.pydata.org/pandas-docs/stable/user_guide/text.html>StringDtype</a>.\n",
    "</div>"
   ]
  },
  {
   "cell_type": "code",
   "execution_count": 39,
   "id": "integrated-sacrifice",
   "metadata": {},
   "outputs": [
    {
     "name": "stdout",
     "output_type": "stream",
     "text": [
      "This is the shape our second Series (6,)\n",
      "This is the dtype of our second Series bool\n",
      "This is the new dtype of our second Series int16\n",
      "And this is how our second Series looks now\n",
      "0    0\n",
      "1    1\n",
      "2    0\n",
      "3    1\n",
      "4    1\n",
      "5    0\n",
      "dtype: int16\n",
      "This the arcsin of our second Series in PIs:\n",
      "0    0.0\n",
      "1    0.5\n",
      "2    0.0\n",
      "3    0.5\n",
      "4    0.5\n",
      "5    0.0\n",
      "dtype: float32\n",
      "The sums of our two Series:\n",
      "0     1\n",
      "1     3\n",
      "2     3\n",
      "3     6\n",
      "4     8\n",
      "5    11\n",
      "dtype: int64\n"
     ]
    }
   ],
   "source": [
    "# Some old friends\n",
    "print(f\"This is the shape our second Series {second_ser.shape}\")\n",
    "print(f\"This is the dtype of our second Series {second_ser.dtype}\")\n",
    "# You can convert the dtype of a Series using the usual .astype() method\n",
    "second_ser = second_ser.astype(\"int16\")\n",
    "print(f\"This is the new dtype of our second Series {second_ser.dtype}\")\n",
    "print(f\"And this is how our second Series looks now\\n{second_ser}\")\n",
    "print(f\"This the arcsin of our second Series in PIs:\\n{np.arcsin(second_ser)/np.pi}\")\n",
    "print(f\"The sums of our two Series:\\n{first_ser + second_ser}\")"
   ]
  },
  {
   "cell_type": "markdown",
   "id": "catholic-charleston",
   "metadata": {},
   "source": [
    "### The `index` of a `pd.Series`\n",
    "\n",
    "The `pd.Series` has a lot in common with the `nd.array`, but they also have a fundamental difference: a `pd.Series` associates an label to each of its element -- like a python basic dictionary. The labels are stored in the `index` attribute. Now, the behavior of the `pd.Series` depends crucially on these labels, as we shall see below. \n",
    "\n",
    "By default the `Index` of a `pd.Series` (and a `pd.DataFrame`!) is a simple range starting from `0`."
   ]
  },
  {
   "cell_type": "code",
   "execution_count": 40,
   "id": "forward-millennium",
   "metadata": {},
   "outputs": [
    {
     "name": "stdout",
     "output_type": "stream",
     "text": [
      "This is the index of the first Series: RangeIndex(start=0, stop=6, step=1)\n"
     ]
    }
   ],
   "source": [
    "print(f\"This is the index of the first Series: {first_ser.index}\")"
   ]
  },
  {
   "cell_type": "markdown",
   "id": "received-stuff",
   "metadata": {},
   "source": [
    "But we can easily change that. Here we assign a random label to each element in the `first_ser` -- the `index` does not have to be numeric, but we will stick with that here."
   ]
  },
  {
   "cell_type": "code",
   "execution_count": 41,
   "id": "mineral-scholar",
   "metadata": {},
   "outputs": [
    {
     "name": "stdout",
     "output_type": "stream",
     "text": [
      "This is the new index of the first Series: Int64Index([5, 3, 0, 4, 2, 1], dtype='int64')\n"
     ]
    }
   ],
   "source": [
    "new_ind = rng.choice([0, 1, 2, 3, 4, 5], size=first_ser.shape, replace=False)\n",
    "first_ser.index = new_ind\n",
    "print(f\"This is the new index of the first Series: {first_ser.index}\")"
   ]
  },
  {
   "cell_type": "markdown",
   "id": "entertaining-ending",
   "metadata": {},
   "source": [
    "Notice how the behavior of `sum` (or `+`) changes!"
   ]
  },
  {
   "cell_type": "code",
   "execution_count": 42,
   "id": "pointed-homework",
   "metadata": {},
   "outputs": [
    {
     "name": "stdout",
     "output_type": "stream",
     "text": [
      "This is our first Series:\n",
      "5     1\n",
      "3     2\n",
      "0     3\n",
      "4     5\n",
      "2     7\n",
      "1    11\n",
      "dtype: int64\n",
      "This is our second Series:\n",
      "0    0\n",
      "1    1\n",
      "2    0\n",
      "3    1\n",
      "4    1\n",
      "5    0\n",
      "dtype: int16\n",
      "Is this their sum?!\n",
      "0     3\n",
      "1    12\n",
      "2     7\n",
      "3     3\n",
      "4     6\n",
      "5     1\n",
      "dtype: int64\n"
     ]
    }
   ],
   "source": [
    "print(f\"This is our first Series:\\n{first_ser}\")\n",
    "print(f\"This is our second Series:\\n{second_ser}\")\n",
    "print(f\"Is this their sum?!\\n{first_ser+second_ser}\")"
   ]
  },
  {
   "cell_type": "markdown",
   "id": "statistical-flash",
   "metadata": {},
   "source": [
    "What's happening here? `pd` is matching the `index` before summing. **Elements with the same label gets summed**. When we have non-corresponding labels, we get a `np.nan`. The general rules is: *`pd` will match the index of `pd.Series` and `pd.DataFrame` when an operation involve two or more of them* -- so, beware of passing `pd.Series` and `pd.DataFrame` with the right `index`."
   ]
  },
  {
   "cell_type": "code",
   "execution_count": 43,
   "id": "dental-wyoming",
   "metadata": {},
   "outputs": [
    {
     "name": "stdout",
     "output_type": "stream",
     "text": [
      "This is our first Series, re-indexed:\n",
      "0     1\n",
      "6     2\n",
      "2     3\n",
      "3     5\n",
      "7     7\n",
      "1    11\n",
      "dtype: int64\n",
      "This is our second Series:\n",
      "0    0\n",
      "1    1\n",
      "2    0\n",
      "3    1\n",
      "4    1\n",
      "5    0\n",
      "dtype: int16\n",
      "Their new sum:\n",
      "0     1.0\n",
      "1    12.0\n",
      "2     3.0\n",
      "3     6.0\n",
      "4     NaN\n",
      "5     NaN\n",
      "6     NaN\n",
      "7     NaN\n",
      "dtype: float64\n"
     ]
    }
   ],
   "source": [
    "# Re-index the first index again\n",
    "new_ind = rng.choice([0, 1, 2, 3, 7, 6], size=first_ser.shape, replace=False)\n",
    "first_ser.index = new_ind\n",
    "\n",
    "print(f\"This is our first Series, re-indexed:\\n{first_ser}\")\n",
    "print(f\"This is our second Series:\\n{second_ser}\")\n",
    "print(f\"Their new sum:\\n{first_ser+second_ser}\")"
   ]
  },
  {
   "cell_type": "markdown",
   "id": "economic-direction",
   "metadata": {},
   "source": [
    "### Selection (and Changing the Elements of a `Pd.Series`)\n",
    "\n",
    "Selection is a pivotal part of Pandas. It turns out the selection process is similar to `np` selection, with the difference that you have to be explicit on the feature you are using for selectin: are you selecting on positions -- `pd.Series` are ordered -- or on `index`? We use the `.iloc[]` selector for positions and `.loc[]` for labels.\n",
    "\n",
    "Exactly like the `np.array`, we often perform the operation of selecting from `pd.Series` and replacing. "
   ]
  },
  {
   "cell_type": "code",
   "execution_count": 47,
   "id": "statutory-virtue",
   "metadata": {},
   "outputs": [
    {
     "name": "stdout",
     "output_type": "stream",
     "text": [
      "Again, this is the first Series:\n",
      "0     1\n",
      "6     2\n",
      "2     3\n",
      "3     5\n",
      "7     7\n",
      "1    11\n",
      "dtype: int64\n",
      "This is the second element in firts Series: 2\n",
      "This is the element with label \"1\" in firts Series: 11\n"
     ]
    }
   ],
   "source": [
    "print(f\"Again, this is the first Series:\\n{first_ser}\")\n",
    "\n",
    "# We select the second element in the Series\n",
    "print(f\"This is the second element in firts Series: {first_ser.iloc[1]}\")\n",
    "# We select the element with label 1 in the Series\n",
    "print(f\"This is the element with label \\\"1\\\" in firts Series: {first_ser.loc[1]}\")"
   ]
  },
  {
   "cell_type": "markdown",
   "id": "committed-wilson",
   "metadata": {},
   "source": [
    "We can use all the same techniques we used for selection on `np.array`, slicing, boolean masks and fancy indexing.\n",
    "\n",
    "#### 1. Slicing\n",
    "\n",
    "You can slice both the `index`, using `.loc[]`, and the positions, using `iloc[]`. The behavior of the two selector when slicing is somehow different.\n",
    "\n",
    "<div class=\"alert alert-block alert-success\">\n",
    "    <b>Slicing in <code>loc[]</code> and <code>iloc[]</code></b> The way <code>loc[]</code> and <code>loc[]</code> deals with slicing is different, in subtle ways. We will not explore all of them here, but look at <a href=https://stackoverflow.com/questions/31593201/how-are-iloc-and-loc-different>this wonderful Stackoverflow answer</a> for a detailed comparison.\n",
    "</div>"
   ]
  },
  {
   "cell_type": "code",
   "execution_count": 56,
   "id": "close-geometry",
   "metadata": {},
   "outputs": [
    {
     "name": "stdout",
     "output_type": "stream",
     "text": [
      "The first Series:\n",
      "0     1\n",
      "6     2\n",
      "2     3\n",
      "3     5\n",
      "7     7\n",
      "1    11\n",
      "dtype: int64\n",
      "Slicing on positions:\n",
      "0    1\n",
      "6    2\n",
      "dtype: int64\n",
      "Slicing on index:\n",
      "0    1\n",
      "6    2\n",
      "2    3\n",
      "dtype: int64\n"
     ]
    }
   ],
   "source": [
    "print(f\"The first Series:\\n{first_ser}\")\n",
    "\n",
    "# Slicing. Notice the different behavior\n",
    "print(f\"Slicing on positions:\\n{first_ser.iloc[:2]}\")\n",
    "print(f\"Slicing on index:\\n{first_ser.loc[:2]}\")"
   ]
  },
  {
   "cell_type": "markdown",
   "id": "indie-retrieval",
   "metadata": {},
   "source": [
    "#### 2. Masking\n",
    "\n",
    "As for `np.array` we can use `bool`-valued `pd.Series` and `np.array` for selection. We will pass our `bool`-valued object inside a `loc[]` selector. Beware that `pd` will match the `index` of the `bool` `pd.Series` with the selected `pd.Series`. Once again, when two `pd.Series` interact, labels are matched. On the other hand, `pd`  match the `bool` `np.array` with the selected `pd.Series` based on positions. An example will clarify.\n",
    "\n",
    "We will use the self-explicatory method `to_numpy()` to transform the `pd.Series` into a `np.array`. We will also replace the selected values with new values. Nothing new here with respect to what we saw for the `np.array`."
   ]
  },
  {
   "cell_type": "code",
   "execution_count": 72,
   "id": "variable-savage",
   "metadata": {},
   "outputs": [
    {
     "name": "stdout",
     "output_type": "stream",
     "text": [
      "The first Series:\n",
      "0     1\n",
      "6     2\n",
      "2     3\n",
      "3     5\n",
      "7     7\n",
      "1    11\n",
      "dtype: int64\n",
      "This is the mask as a Series:\n",
      "6    False\n",
      "1     True\n",
      "2    False\n",
      "7     True\n",
      "0     True\n",
      "3    False\n",
      "dtype: bool\n",
      "This is the first Series masked by a Series:\n",
      "0     1\n",
      "7     7\n",
      "1    11\n",
      "dtype: int64\n",
      "This is the mask as an Array: [False  True False  True  True False]\n",
      "This is first Series masked by an Array:\n",
      "6    2\n",
      "3    5\n",
      "7    7\n",
      "dtype: int64\n",
      "This is first Series after replacement of values:\n",
      "0     1.0\n",
      "6     NaN\n",
      "2     3.0\n",
      "3     NaN\n",
      "7     NaN\n",
      "1    11.0\n",
      "dtype: float64\n"
     ]
    }
   ],
   "source": [
    "print(f\"The first Series:\\n{first_ser}\")\n",
    "\n",
    "# We build a Boolean mask starting with. Only works with loc\n",
    "mask = second_ser.astype(bool)\n",
    "# We have to match the index of the mask with the index of the Series\n",
    "mask.index = rng.choice(first_ser.index, size=(6,), replace=False)\n",
    "print(f\"This is the mask as a Series:\\n{mask}\")\n",
    "# Notice how pd has matched indices\n",
    "print(f\"This is the first Series masked by a Series:\\n{first_ser.loc[mask]}\")\n",
    "mask = mask.to_numpy()\n",
    "print(f\"This is the mask as an Array: {mask}\")\n",
    "print(f\"This is first Series masked by an Array:\\n{first_ser.loc[mask]}\")\n",
    "#Replace the masked values with Nans\n",
    "first_ser.loc[mask] = np.nan\n",
    "print(f\"This is first Series after replacement of values:\\n{first_ser}\")"
   ]
  },
  {
   "cell_type": "markdown",
   "id": "alpha-smell",
   "metadata": {},
   "source": [
    "#### 3. Fancy Indexing\n",
    "\n",
    "Finally, we can go with fancy indexing on `pd.Series` as well -- even if I do not think this is the official name. This works both with `iloc[]` and with `loc[]`.\n",
    "\n",
    "**Beware**: there is **no** fancy indexing on `pd.DataFrame` in the same way as there is on `np.array`. If you are in a situation where you need to use fancy indexing on `pd.DataFrame`, your best option is to convert the `pd.DataFrame` to a `np.array`, select the `np.array`, then convert the results to a `pd.DataFrame` or `pd.Sereis` if needed. We will come back to this.\n",
    "\n",
    "Also, this is a good time to notice that an `index` does not have to contain unique labels...but it should! We can use the method `.reindex()` to enforce that."
   ]
  },
  {
   "cell_type": "code",
   "execution_count": 73,
   "id": "removable-annual",
   "metadata": {},
   "outputs": [
    {
     "name": "stdout",
     "output_type": "stream",
     "text": [
      "The first Series:\n",
      "0     1.0\n",
      "6     NaN\n",
      "2     3.0\n",
      "3     NaN\n",
      "7     NaN\n",
      "1    11.0\n",
      "dtype: float64\n",
      "This is a random selection based on label:\n",
      "3     NaN\n",
      "7     NaN\n",
      "7     NaN\n",
      "0     1.0\n",
      "1    11.0\n",
      "1    11.0\n",
      "7     NaN\n",
      "2     3.0\n",
      "6     NaN\n",
      "3     NaN\n",
      "dtype: float64\n",
      "\n",
      "This is a random selection based on position:\n",
      "7     NaN\n",
      "6     NaN\n",
      "7     NaN\n",
      "6     NaN\n",
      "6     NaN\n",
      "0     1.0\n",
      "6     NaN\n",
      "6     NaN\n",
      "7     NaN\n",
      "1    11.0\n",
      "dtype: float64\n",
      "This is the same selection, but with indices resetted:\n",
      "   index     0\n",
      "0      7   NaN\n",
      "1      6   NaN\n",
      "2      7   NaN\n",
      "3      6   NaN\n",
      "4      6   NaN\n",
      "5      0   1.0\n",
      "6      6   NaN\n",
      "7      6   NaN\n",
      "8      7   NaN\n",
      "9      1  11.0\n"
     ]
    }
   ],
   "source": [
    "# Randomly (repeated) sample from the first Series using fancy indexing\n",
    "print(f\"The first Series:\\n{first_ser}\")\n",
    "\n",
    "# We create a random order based on labels by sampling the indices of the series\n",
    "random_order = rng.choice(first_ser.index, size=(10,))\n",
    "print(f\"This is a random selection based on label:\\n{first_ser.loc[random_order]}\\n\")\n",
    "# We create a random order based on positions by sampling the positions of the series\n",
    "# Notice the use of np.arange and shape\n",
    "random_order = rng.choice(np.arange(first_ser.shape[0]), size=(10,))\n",
    "selected_first = first_ser.iloc[random_order]\n",
    "print(f\"This is a random selection based on position:\\n{selected_first}\")\n",
    "# Reindex\n",
    "selected_first = selected_first.reset_index()\n",
    "print(f\"This is the same selection, but with indices resetted:\\n{selected_first}\")"
   ]
  },
  {
   "cell_type": "markdown",
   "id": "executed-gambling",
   "metadata": {},
   "source": [
    "#### New Elements\n",
    "\n",
    "The selector `loc[]` can be used to add one new element to the a `pd.Series`. If we need to add multiple elements, the most efficient way (when possible) is to storing the new elements in another `pd.Series` and then use <a href=https://pandas.pydata.org/pandas-docs/stable/reference/api/pandas.concat.html>`pd.concat`</a> function, which can concatenate 2 or more `pd.Series` as well as `pd.DataFrame` (both along rows and columns!)."
   ]
  },
  {
   "cell_type": "code",
   "execution_count": 87,
   "id": "right-knight",
   "metadata": {},
   "outputs": [
    {
     "name": "stdout",
     "output_type": "stream",
     "text": [
      "The first Series before adding a new element:\n",
      "0        1.0\n",
      "6        NaN\n",
      "2        3.0\n",
      "3        NaN\n",
      "7        NaN\n",
      "1       11.0\n",
      "new    -99.0\n",
      "new_   -99.0\n",
      "dtype: float64\n",
      "The first Series after adding a new element:\n",
      "0        1.0\n",
      "6        NaN\n",
      "2        3.0\n",
      "3        NaN\n",
      "7        NaN\n",
      "1       11.0\n",
      "new    -99.0\n",
      "new_   -99.0\n",
      "dtype: float64\n",
      "This is the concatenated Series: 0      1.0\n",
      "1      NaN\n",
      "2      3.0\n",
      "3      NaN\n",
      "4      NaN\n",
      "5     11.0\n",
      "6    -99.0\n",
      "7    -99.0\n",
      "8      0.0\n",
      "9      1.0\n",
      "10     0.0\n",
      "11     1.0\n",
      "12     1.0\n",
      "13     0.0\n",
      "dtype: float64\n"
     ]
    }
   ],
   "source": [
    "print(f\"The first Series before adding a new element:\\n{first_ser}\")\n",
    "# Add an element with label \"new\"\n",
    "first_ser.loc['new'] = -99\n",
    "print(f\"The first Series after adding a new element:\\n{first_ser}\")\n",
    "# Concatenation of the two series. Ignore_index automatically reset the indices\n",
    "conc_series = pd.concat([first_ser, second_ser], ignore_index=True)\n",
    "print(f\"This is the concatenated Series: {conc_series}\")"
   ]
  },
  {
   "cell_type": "markdown",
   "id": "short-biology",
   "metadata": {},
   "source": [
    "### Our Last Stop: The `pd.DataFrame`\n",
    "\n",
    "You made untill the last section of the workshop."
   ]
  },
  {
   "cell_type": "code",
   "execution_count": null,
   "id": "useful-consideration",
   "metadata": {},
   "outputs": [],
   "source": []
  },
  {
   "cell_type": "code",
   "execution_count": null,
   "id": "ideal-turtle",
   "metadata": {},
   "outputs": [],
   "source": []
  }
 ],
 "metadata": {
  "kernelspec": {
   "display_name": "Python 3",
   "language": "python",
   "name": "python3"
  },
  "language_info": {
   "codemirror_mode": {
    "name": "ipython",
    "version": 3
   },
   "file_extension": ".py",
   "mimetype": "text/x-python",
   "name": "python",
   "nbconvert_exporter": "python",
   "pygments_lexer": "ipython3",
   "version": "3.8.5"
  }
 },
 "nbformat": 4,
 "nbformat_minor": 5
}
