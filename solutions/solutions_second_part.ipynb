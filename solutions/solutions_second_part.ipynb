{
 "cells": [
  {
   "cell_type": "markdown",
   "id": "basic-wedding",
   "metadata": {},
   "source": [
    "## Solutions, Second Part\n",
    "\n",
    "This notebook contains the solutions the exercise of the Second part of the workshop. To see the solutions in action copy-paste the code in the code block of the exercise. Notice, this code will not run as is, you have to copy-paste before running.\n",
    "\n",
    "### Exercise 3"
   ]
  },
  {
   "cell_type": "code",
   "execution_count": null,
   "id": "valuable-factor",
   "metadata": {},
   "outputs": [],
   "source": [
    "# Fill in the dictionary\n",
    "keepers = {'home':'', 'away':''}\n",
    "\n",
    "# Home keepers\n",
    "if attack['home'] ==1: # you can write this simply as 'if attack['home']:'\n",
    "    keepers['home'] = home_ko_xs.idxmin()\n",
    "    keepers['away'] = away_ko_xs.idxmax()\n",
    "else:\n",
    "    keepers['home'] = home_ko_xs.idxmax()\n",
    "    keepers['away'] = away_ko_xs.idxmin()\n",
    "\n",
    "print(keepers)"
   ]
  },
  {
   "cell_type": "markdown",
   "id": "derived-fitting",
   "metadata": {},
   "source": [
    "#### Exercise 4"
   ]
  },
  {
   "cell_type": "code",
   "execution_count": null,
   "id": "killing-cream",
   "metadata": {},
   "outputs": [],
   "source": [
    "away_tracking.boxplot(column=away_y_selector.to_list(), figsize=(15,10))"
   ]
  }
 ],
 "metadata": {
  "kernelspec": {
   "display_name": "Python 3",
   "language": "python",
   "name": "python3"
  },
  "language_info": {
   "codemirror_mode": {
    "name": "ipython",
    "version": 3
   },
   "file_extension": ".py",
   "mimetype": "text/x-python",
   "name": "python",
   "nbconvert_exporter": "python",
   "pygments_lexer": "ipython3",
   "version": "3.8.5"
  }
 },
 "nbformat": 4,
 "nbformat_minor": 5
}
